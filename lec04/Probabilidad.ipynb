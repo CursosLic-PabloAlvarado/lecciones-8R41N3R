{
 "cells": [
  {
   "cell_type": "markdown",
   "metadata": {},
   "source": [
    "## Lección 4\n",
    "\n",
    "### Repaso de probabilidad\n",
    "\n",
    "EL5857 Aprendizaje Automático <br>\n",
    "(C) 2023 Pablo Alvarado Moya<br>\n",
    "Escuela de Ingeniería Electrónica"
   ]
  },
  {
   "cell_type": "code",
   "execution_count": null,
   "metadata": {},
   "outputs": [],
   "source": [
    "# Necesitamos la OpenCV.  Si no está instalada, use\n",
    "\n",
    "#!conda install -c conda-forge opencv\n",
    "\n",
    "# o\n",
    "\n",
    "#!pip install opencv-python"
   ]
  },
  {
   "cell_type": "code",
   "execution_count": null,
   "metadata": {},
   "outputs": [],
   "source": [
    "import numpy as np\n",
    "import matplotlib.pyplot as plt"
   ]
  },
  {
   "cell_type": "markdown",
   "metadata": {},
   "source": [
    "# Generalidades"
   ]
  },
  {
   "cell_type": "markdown",
   "metadata": {},
   "source": [
    "¿Cómo genero una matriz de números aleatorios entre 0 y 1, de tamaño 3x4?"
   ]
  },
  {
   "cell_type": "code",
   "execution_count": null,
   "metadata": {},
   "outputs": [],
   "source": [
    "M=np.random.uniform(-10,10,size=(3,4))\n",
    "\n",
    "M"
   ]
  },
  {
   "cell_type": "markdown",
   "metadata": {},
   "source": [
    "¿Cómo sumo todos los elementos de cada fila / columna?"
   ]
  },
  {
   "cell_type": "code",
   "execution_count": null,
   "metadata": {},
   "outputs": [],
   "source": [
    "np.sum(M,axis=1)"
   ]
  },
  {
   "cell_type": "code",
   "execution_count": null,
   "metadata": {},
   "outputs": [],
   "source": [
    "np.sum(M,axis=0)"
   ]
  },
  {
   "cell_type": "markdown",
   "metadata": {},
   "source": [
    "# Generemos unos datos de una mezcla de gaussianas\n",
    "\n",
    "La idea es la siguiente: vamos a tener dos generadores de números aleatorios gaussianos, pero vamos a seleccionar entre ellos con una distribución binomial.\n"
   ]
  },
  {
   "cell_type": "code",
   "execution_count": null,
   "metadata": {},
   "outputs": [],
   "source": [
    "# Probabilidad de elegir distribución 0 o 1\n",
    "phi=0.4\n",
    "\n",
    "# Media y desviación estándar de la distribución 0\n",
    "mu0=1\n",
    "sd0=0.2\n",
    "\n",
    "# Media y desviación estándar de la distribución 1\n",
    "mu1=2.5\n",
    "sd1=0.5"
   ]
  },
  {
   "cell_type": "code",
   "execution_count": null,
   "metadata": {},
   "outputs": [],
   "source": [
    "numsamples=(10000,1)\n",
    "\n",
    "s0=np.random.normal(mu0,sd0,numsamples)\n",
    "s1=np.random.normal(mu1,sd1,numsamples)\n",
    "\n",
    "c=np.random.binomial(1,phi,numsamples)\n",
    "\n"
   ]
  },
  {
   "cell_type": "code",
   "execution_count": null,
   "metadata": {},
   "outputs": [],
   "source": [
    "s = s0*(1-c) + s1*c"
   ]
  },
  {
   "cell_type": "code",
   "execution_count": null,
   "metadata": {},
   "outputs": [],
   "source": [
    "plt.hist(s,bins=50,density=True)"
   ]
  },
  {
   "cell_type": "code",
   "execution_count": null,
   "metadata": {},
   "outputs": [],
   "source": [
    "# 1. Cómo extraer un vector con el histograma\n",
    "# 2. Cómo calcular la distribución acumulada\n",
    "\n",
    "h,e = np.histogram(s,bins=50,density=True)\n",
    "a = np.cumsum(h)\n",
    "a=a/a[-1]\n",
    "plt.step(e[:-1],a)"
   ]
  },
  {
   "cell_type": "markdown",
   "metadata": {},
   "source": [
    "# Teorema del límite central\n",
    "\n",
    "Para observar experimentalmente el teorema del límite central:\n",
    "\n",
    "1. Genere varios sets de datos distribuidos uniformemente entre -1 y 1\n",
    "   Use por ejemplo una matriz, donde cada fila contienen bastantes muestras \n",
    "2. Vaya incrementando paulatinamente el número de filas de la matriz de 1 a 100\n",
    "3. Para cada número de filas, calcule la suma a lo largo de las columnas \n",
    "4. Grafique el histograma en cada caso\n",
    "5. ¿Hacia qué converge la distribución?"
   ]
  },
  {
   "cell_type": "code",
   "execution_count": null,
   "metadata": {},
   "outputs": [],
   "source": []
  }
 ],
 "metadata": {
  "kernelspec": {
   "display_name": "Python 3",
   "language": "python",
   "name": "python3"
  },
  "language_info": {
   "codemirror_mode": {
    "name": "ipython",
    "version": 3
   },
   "file_extension": ".py",
   "mimetype": "text/x-python",
   "name": "python",
   "nbconvert_exporter": "python",
   "pygments_lexer": "ipython3",
   "version": "3.9.7"
  }
 },
 "nbformat": 4,
 "nbformat_minor": 4
}
