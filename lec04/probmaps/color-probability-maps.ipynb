{
 "cells": [
  {
   "cell_type": "markdown",
   "metadata": {},
   "source": [
    "## Lección 4\n",
    "\n",
    "### Mapas de probabilidad de Color\n",
    "\n",
    "EL5857 Aprendizaje Automático <br>\n",
    "(C) 2023 Pablo Alvarado <br>\n",
    "Escuela de Ingeniería Electrónica"
   ]
  },
  {
   "cell_type": "code",
   "execution_count": null,
   "metadata": {},
   "outputs": [],
   "source": [
    "# Necesitamos la OpenCV.  Si no está instalada, puede hacerlo con\n",
    "\n",
    "#!conda install -c conda-forge opencv\n",
    "\n",
    "# o\n",
    "\n",
    "#!pip install opencv-python"
   ]
  },
  {
   "cell_type": "code",
   "execution_count": null,
   "metadata": {},
   "outputs": [],
   "source": [
    "import numpy as np\n",
    "import cv2\n",
    "import time\n",
    "from matplotlib import pyplot as plt"
   ]
  },
  {
   "cell_type": "markdown",
   "metadata": {},
   "source": [
    "Implementemos una versión \"ingenua\" de los mapas de probabilidad de color.\n",
    "\n",
    "Esta implementación se basea en el artículo original: [Statistical Color Models with Applications on Skin Detection](https://www.hpl.hp.com/techreports/Compaq-DEC/CRL-98-11.pdf).\n",
    "\n",
    "Los datos fueron tomados de [UCI Skin Detection Data Set](https://archive.ics.uci.edu/ml/datasets/skin+segmentation)"
   ]
  },
  {
   "cell_type": "code",
   "execution_count": null,
   "metadata": {},
   "outputs": [],
   "source": [
    "## Cargue valores de pixeles con su clase (R,G,B,clase)\n",
    "data = np.loadtxt('Skin_NonSkin.txt')\n",
    "\n",
    "## Separemos los datos en \n",
    "skin = data[data[:,3]==1,0:3]\n",
    "non_skin = data[data[:,3]==2,0:3]\n",
    "\n",
    "print(\"Datos piel: \",skin.shape)\n",
    "print(\"Datos no piel: \",non_skin.shape)"
   ]
  },
  {
   "cell_type": "code",
   "execution_count": null,
   "metadata": {},
   "outputs": [],
   "source": [
    "def compute_histo(data,bins=32):\n",
    "    ## Asumimos que los datos van entre 0 y 255\n",
    "    f=256/bins\n",
    "    idx=(data/f).astype(int)\n",
    "    histo,_=np.histogramdd(data,bins=(bins,bins,bins),density=True)\n",
    "    return histo\n",
    "    "
   ]
  },
  {
   "cell_type": "code",
   "execution_count": null,
   "metadata": {},
   "outputs": [],
   "source": [
    "hskin=compute_histo(skin)\n",
    "hnon_skin=compute_histo(non_skin)"
   ]
  },
  {
   "cell_type": "markdown",
   "metadata": {},
   "source": [
    "# Implementación ingenua"
   ]
  },
  {
   "cell_type": "code",
   "execution_count": null,
   "metadata": {},
   "outputs": [],
   "source": [
    "img = cv2.imread('gesture_accept.png')\n",
    "plt.imshow(cv2.cvtColor(img, cv2.COLOR_BGR2RGB))"
   ]
  },
  {
   "cell_type": "code",
   "execution_count": null,
   "metadata": {},
   "outputs": [],
   "source": [
    "rows, cols, _ = img.shape\n",
    "bins = hskin.shape[0];\n",
    "f=256/bins;\n",
    "eps=1e-10; ## Para evitar divisiones por cero\n",
    "spm = np.zeros((rows,cols))\n",
    "\n",
    "\n",
    "priori=skin.shape[0]/(skin.shape[0]+non_skin.shape[0])\n",
    "#priori=0.5\n",
    "\n",
    "do_slow_version=True   ## Con esta variable puede saltarse la versión lenta\n",
    "if do_slow_version: \n",
    "    # Esto es bastante lento (¡alrededor de 1 minuto!).\n",
    "\n",
    "    tik=time.time_ns()\n",
    "    for row in range(0,rows):\n",
    "        for col in range(0,cols):\n",
    "            colorIdx = (img[row,col,:]/f).astype(int)               \n",
    "            P_rgb_skin = hskin[tuple(colorIdx)]+eps\n",
    "            P_rgb_non_skin = hnon_skin[tuple(colorIdx)]+eps    \n",
    "\n",
    "            spm[row,col] = (P_rgb_skin*priori)/(P_rgb_skin*priori + P_rgb_non_skin*(1-priori))\n",
    "    tok=time.time_ns()"
   ]
  },
  {
   "cell_type": "code",
   "execution_count": null,
   "metadata": {},
   "outputs": [],
   "source": [
    "if do_slow_version:\n",
    "    slow_time=(tok-tik)/10**6 ## in ms\n",
    "    print(\"Tiempo versión ingenua: {0} ms\".format(slow_time))\n",
    "else:\n",
    "    print(\"No se ejecutó versión lenta.  Cambie do_slow_version si sí desea ejecutarla\")"
   ]
  },
  {
   "cell_type": "code",
   "execution_count": null,
   "metadata": {},
   "outputs": [],
   "source": [
    "plt.figure()\n",
    "plt.imshow(spm, cmap='gray')\n",
    "print(\"Máxima probabilidad encontrada=\",np.max(spm))"
   ]
  },
  {
   "cell_type": "markdown",
   "metadata": {},
   "source": [
    "# Tarea: vectoricemos el cálculo"
   ]
  },
  {
   "cell_type": "code",
   "execution_count": null,
   "metadata": {},
   "outputs": [],
   "source": [
    "def probmap(img,priori=0.5):\n",
    "    rows, cols, _ = img.shape\n",
    "    bins = hskin.shape[0];\n",
    "    f=256/bins;\n",
    "    eps=1e-10; ## Para evitar divisiones por cero\n",
    "    \n",
    "    idx=(img.reshape(-1,3)/f).astype(int)\n",
    "    tidx=tuple(idx.T)\n",
    "    \n",
    "    P_rgb_skin = hskin[tidx] + eps\n",
    "    P_rgb_non_skin = hnon_skin[tidx] + eps\n",
    "    P = (P_rgb_skin*priori)/(P_rgb_skin*priori + P_rgb_non_skin*(1-priori))\n",
    "    \n",
    "    spm = P.reshape(rows,cols)\n",
    "    \n",
    "    return spm"
   ]
  },
  {
   "cell_type": "code",
   "execution_count": null,
   "metadata": {},
   "outputs": [],
   "source": [
    "tik=time.time_ns()\n",
    "spm=probmap(img)\n",
    "tok=time.time_ns()\n",
    "\n",
    "fast_time=(tok-tik)/10**6\n",
    "print(\"Tiempo versión vectorizada: {0} ms\".format(fast_time))\n",
    "\n",
    "plt.figure()\n",
    "_=plt.imshow(spm, cmap='gray')"
   ]
  },
  {
   "cell_type": "code",
   "execution_count": null,
   "metadata": {},
   "outputs": [],
   "source": [
    "if do_slow_version: \n",
    "    print(\"Versión vectorizada es {0} veces más rápida que versión ingenua.\".format(slow_time/fast_time))"
   ]
  },
  {
   "cell_type": "markdown",
   "metadata": {},
   "source": [
    "# Tarea: usemos vectorización para verlo con la cámara"
   ]
  },
  {
   "cell_type": "code",
   "execution_count": null,
   "metadata": {},
   "outputs": [],
   "source": [
    "cam = cv2.VideoCapture(0)\n",
    "cam.set(cv2.CAP_PROP_FRAME_WIDTH, 320)\n",
    "cam.set(cv2.CAP_PROP_FRAME_HEIGHT, 240)\n",
    "\n",
    "priori=0.5\n",
    "\n",
    "while True:\n",
    "    ret, img = cam.read()\n",
    "    rows, cols, _ = img.shape\n",
    "    \n",
    "    pmap=probmap(img,priori)\n",
    "    \n",
    "    cv2.imshow('Probability Map', pmap)\n",
    "    cv2.imshow('Original', img)\n",
    "    \n",
    "    if (cv2.waitKey(1) & 0xFF) == ord('q'):\n",
    "        break"
   ]
  },
  {
   "cell_type": "code",
   "execution_count": null,
   "metadata": {},
   "outputs": [],
   "source": [
    "cam.release()\n",
    "cv2.destroyAllWindows()"
   ]
  },
  {
   "cell_type": "code",
   "execution_count": null,
   "metadata": {},
   "outputs": [],
   "source": []
  }
 ],
 "metadata": {
  "kernelspec": {
   "display_name": "Python 3",
   "language": "python",
   "name": "python3"
  },
  "language_info": {
   "codemirror_mode": {
    "name": "ipython",
    "version": 3
   },
   "file_extension": ".py",
   "mimetype": "text/x-python",
   "name": "python",
   "nbconvert_exporter": "python",
   "pygments_lexer": "ipython3",
   "version": "3.9.7"
  }
 },
 "nbformat": 4,
 "nbformat_minor": 4
}
